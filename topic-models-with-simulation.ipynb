{
 "cells": [
  {
   "cell_type": "code",
   "execution_count": 1,
   "metadata": {
    "collapsed": false,
    "slideshow": {
     "slide_type": "skip"
    }
   },
   "outputs": [
    {
     "name": "stderr",
     "output_type": "stream",
     "text": [
      "/Users/tdhopper/miniconda/envs/understanding-lda/lib/python3.5/site-packages/sklearn/utils/fixes.py:64: DeprecationWarning: inspect.getargspec() is deprecated, use inspect.signature() instead\n",
      "  if 'order' in inspect.getargspec(np.copy)[0]:\n"
     ]
    }
   ],
   "source": [
    "%matplotlib inline\n",
    "import scipy as sp\n",
    "import numpy as np\n",
    "import pandas as pd\n",
    "import matplotlib.pyplot as plt\n",
    "\n",
    "from collections import defaultdict\n",
    "from itertools import groupby\n",
    "from sklearn import datasets\n",
    "from scipy.stats import dirichlet, norm, poisson\n",
    "\n",
    "np.random.seed(1234)"
   ]
  },
  {
   "cell_type": "markdown",
   "metadata": {
    "slideshow": {
     "slide_type": "slide"
    }
   },
   "source": [
    "# Understanding Probabilistic Topic Models By Simulation\n",
    "\n",
    "* Tim Hopper\n",
    "* [@tdhopper](https://twitter.com/tdhopper)\n",
    "* Data Science at [Distil Networks](distilnetworks.com)\n",
    "\n",
    "Slides available at https://github.com/tdhopper/pydata-nyc-2015"
   ]
  },
  {
   "cell_type": "markdown",
   "metadata": {
    "slideshow": {
     "slide_type": "slide"
    }
   },
   "source": [
    "# What is Latent Dirichlet Allocation?\n",
    "\n",
    "> LDA is a three-level hierarchical Bayesian model, in which each\n",
    "item of a collection is modeled as a finite mixture over an underlying set of topics. \n",
    "\n",
    "> Each topic is, in turn, modeled as an infinite mixture over an underlying set of topic probabilities.\n",
    "\n",
    "Duh.\n",
    "\n",
    "[[source](https://www.cs.princeton.edu/~blei/papers/BleiNgJordan2003.pdf)]"
   ]
  },
  {
   "cell_type": "markdown",
   "metadata": {
    "slideshow": {
     "slide_type": "slide"
    }
   },
   "source": [
    "# What is Latent Dirichlet Allocation?\n",
    "\n",
    "![](./static/graphical_model.png)\n",
    "\n",
    "Duh."
   ]
  },
  {
   "cell_type": "markdown",
   "metadata": {
    "slideshow": {
     "slide_type": "slide"
    }
   },
   "source": [
    "# What is Latent Dirichlet Allocation?\n",
    "\n",
    "$$\n",
    "p(D \\,|\\, \\alpha, \\beta) =\n",
    "\\prod_{d=1}^M \\int p(\\theta_d \\,|\\, \\alpha \n",
    "\\left(\n",
    "\\prod_{n=1}^{N_d}\n",
    "\\sum_{z_{dn}}\n",
    "p(z_{dn} \\,|\\, \\theta_d)\n",
    "p(w_dn \\,|\\, z_dn, \\beta)\n",
    "\\right)\n",
    "d \\theta_d\n",
    "$$\n",
    "\n",
    "Duh."
   ]
  },
  {
   "cell_type": "markdown",
   "metadata": {
    "slideshow": {
     "slide_type": "slide"
    }
   },
   "source": [
    "![](./static/sheldon.gif)"
   ]
  },
  {
   "cell_type": "code",
   "execution_count": 2,
   "metadata": {
    "collapsed": false,
    "slideshow": {
     "slide_type": "skip"
    }
   },
   "outputs": [],
   "source": [
    "iris = datasets.load_iris()\n",
    "df = pd.DataFrame(iris['data'], columns=iris['feature_names'])\n",
    "df['class'] = iris['target']\n",
    "df = df[df['class'].isin([0,2])]\n",
    "gby = df.groupby(by='class')['sepal length (cm)']\n",
    "hist_data = [gby.get_group(cid).tolist() \n",
    "             for cid in gby.groups.keys()]\n",
    "\n",
    "settings = {\"bins\": 10, \"histtype\": 'stepfilled', \"alpha\": .5}\n",
    "data = {\"x\": df['sepal length (cm)']}\n",
    "data.update(settings)\n",
    "data2 = {\"x\": hist_data }\n",
    "data2.update(settings)\n",
    "title = 'Sepal Length for Iris-Setosa and Iris-Virginica'"
   ]
  },
  {
   "cell_type": "markdown",
   "metadata": {
    "slideshow": {
     "slide_type": "slide"
    }
   },
   "source": [
    "# Gaussian Mixture Models"
   ]
  },
  {
   "cell_type": "markdown",
   "metadata": {
    "slideshow": {
     "slide_type": "notes"
    }
   },
   "source": [
    "Can we discriminate between Setosa and Virginica irises by modeling their sepal length as a mixture of Gaussians?"
   ]
  },
  {
   "cell_type": "code",
   "execution_count": 3,
   "metadata": {
    "collapsed": false
   },
   "outputs": [
    {
     "data": {
      "image/png": "[encoded data removed]",
      "text/plain": [
       "<matplotlib.figure.Figure at 0x106eeab38>"
      ]
     },
     "metadata": {},
     "output_type": "display_data"
    }
   ],
   "source": [
    "plt.hist(**data);_=plt.title(title)"
   ]
  },
  {
   "cell_type": "markdown",
   "metadata": {
    "slideshow": {
     "slide_type": "slide"
    }
   },
   "source": [
    "# Gaussian Mixture Models"
   ]
  },
  {
   "cell_type": "code",
   "execution_count": 4,
   "metadata": {
    "collapsed": false,
    "slideshow": {
     "slide_type": "-"
    }
   },
   "outputs": [
    {
     "data": {
      "image/png": "[encoded data removed]",
      "text/plain": [
       "<matplotlib.figure.Figure at 0x10bc72630>"
      ]
     },
     "metadata": {},
     "output_type": "display_data"
    }
   ],
   "source": [
    "plt.hist(**data2);_=plt.title(title)"
   ]
  },
  {
   "cell_type": "markdown",
   "metadata": {
    "slideshow": {
     "slide_type": "slide"
    }
   },
   "source": [
    "    ➡ Forward Sampling\n",
    "    \n",
    "Let's generate some data"
   ]
  },
  {
   "cell_type": "code",
   "execution_count": 5,
   "metadata": {
    "collapsed": false
   },
   "outputs": [],
   "source": [
    "# Fixed model parameters\n",
    "mixture_proportion = [0.50, 0.50]\n",
    "mean               = [5.01, 6.59]\n",
    "std                = [0.35, 0.64]\n",
    "\n",
    "data = []\n",
    "for z in range(1, 101):\n",
    "    iris_type = np.random.choice(2, p=mixture_proportion)\n",
    "    sepal_length = norm(loc=mean[iris_type], scale=std[iris_type]).rvs()\n",
    "    data.append((iris_type, sepal_length))"
   ]
  },
  {
   "cell_type": "code",
   "execution_count": 6,
   "metadata": {
    "collapsed": false,
    "slideshow": {
     "slide_type": "slide"
    }
   },
   "outputs": [
    {
     "data": {
      "image/png": "[encoded data removed]",
      "text/plain": [
       "<matplotlib.figure.Figure at 0x10c013e80>"
      ]
     },
     "metadata": {},
     "output_type": "display_data"
    }
   ],
   "source": [
    "plt.hist([sepal_length for iris_type, sepal_length in data if iris_type==0], **settings)\n",
    "plt.hist([sepal_length for iris_type, sepal_length in data if iris_type==1], **settings)\n",
    "_=plt.title('Simulated Sepal Length for Iris-Setosa and Iris-Virginica')"
   ]
  },
  {
   "cell_type": "markdown",
   "metadata": {
    "slideshow": {
     "slide_type": "slide"
    }
   },
   "source": [
    "    ➡ Forward Sampling\n",
    "    \n",
    "Bayesian style!"
   ]
  },
  {
   "cell_type": "code",
   "execution_count": 7,
   "metadata": {
    "collapsed": false,
    "slideshow": {
     "slide_type": "-"
    }
   },
   "outputs": [],
   "source": [
    "# Prior distribution on parameters\n",
    "mixture_proportion = dirichlet(alpha=[1, 1]).rvs()[0]\n",
    "mean               = norm(loc=6, scale=1).rvs(size=2)\n",
    "std                = norm(loc=.5, scale=.2).rvs(size=2)\n",
    "\n",
    "data = []\n",
    "for z in range(1, 101):\n",
    "    iris_type = np.random.choice(2, p=mixture_proportion)\n",
    "    sepal_length = norm(loc=mean[iris_type], scale=std[iris_type]).rvs()\n",
    "    data.append((iris_type, sepal_length))"
   ]
  },
  {
   "cell_type": "code",
   "execution_count": 8,
   "metadata": {
    "collapsed": false,
    "slideshow": {
     "slide_type": "slide"
    }
   },
   "outputs": [
    {
     "data": {
      "image/png": "[encoded data removed]",
      "text/plain": [
       "<matplotlib.figure.Figure at 0x10be3d940>"
      ]
     },
     "metadata": {},
     "output_type": "display_data"
    }
   ],
   "source": [
    "plt.hist([sepal_length for iris_type, sepal_length in data if iris_type==0], **settings)\n",
    "plt.hist([sepal_length for iris_type, sepal_length in data if iris_type==1], **settings)\n",
    "_=plt.title('Simulated Sepal Length for Iris-Setosa and Iris-Virginica')"
   ]
  },
  {
   "cell_type": "markdown",
   "metadata": {
    "slideshow": {
     "slide_type": "slide"
    }
   },
   "source": [
    "    \"\"\"\n",
    "    ⬅ Reversing the Process\n",
    "    \"\"\"\n",
    "\n",
    "Given data without cluster assignments...\n",
    "\n",
    "...find the cluster for each point\n",
    "\n",
    "...find the parameters of each cluster (or distribution over parameters)\n",
    "\n",
    "...find the mixture proportion (or distribution proportions)\n",
    "\n",
    "[You can do exactly this with PyMC3.](https://github.com/pymc-devs/pymc3/blob/master/pymc3/examples/gaussian_mixture_model.ipynb)"
   ]
  },
  {
   "cell_type": "markdown",
   "metadata": {
    "slideshow": {
     "slide_type": "slide"
    }
   },
   "source": [
    "# Discrete Mixture Models"
   ]
  },
  {
   "cell_type": "code",
   "execution_count": 9,
   "metadata": {
    "collapsed": false
   },
   "outputs": [],
   "source": [
    "num_clusters = 2\n",
    "mixture_proportion = dirichlet(alpha=num_clusters*[1]).rvs()[0]\n",
    "cluster_distributions = dirichlet(alpha=[1, 1, 1]).rvs(size=num_clusters)\n",
    "\n",
    "docs = defaultdict(str)\n",
    "for z in range(100):\n",
    "    cluster = np.random.choice(num_clusters, p=mixture_proportion)\n",
    "    docs[cluster] += np.random.choice(['🐭', '🐘', '🐒'], \n",
    "                                      p=cluster_distributions[cluster])\n",
    "    docs[cluster] = ''.join(sorted(docs[cluster]))"
   ]
  },
  {
   "cell_type": "code",
   "execution_count": 10,
   "metadata": {
    "collapsed": false
   },
   "outputs": [
    {
     "name": "stdout",
     "output_type": "stream",
     "text": [
      "Cluster 1: 🐒🐒🐒🐒🐒🐒🐒🐒🐒🐒🐘🐭🐭🐭🐭🐭🐭🐭🐭🐭🐭🐭🐭🐭🐭\n",
      "Cluster 2: 🐒🐒🐒🐒🐒🐒🐒🐒🐒🐒🐒🐒🐒🐒🐒🐒🐒🐒🐒🐒🐒🐒🐒🐒🐒🐒🐒🐒🐒🐒🐒🐒🐒🐒🐒🐒🐒🐒🐒🐒🐒🐒🐒🐒🐒🐒🐒🐒🐒🐒🐒🐒🐒🐒🐒🐒🐒🐒🐒🐘🐘🐘🐭🐭🐭🐭🐭🐭🐭🐭🐭🐭🐭🐭🐭\n"
     ]
    }
   ],
   "source": [
    "for cluster, doc in docs.items():\n",
    "    print(end=\"Cluster {}: \".format(cluster+1))\n",
    "    print(doc)"
   ]
  },
  {
   "cell_type": "markdown",
   "metadata": {
    "slideshow": {
     "slide_type": "slide"
    }
   },
   "source": [
    "## Mixture Model for Documents\n"
   ]
  },
  {
   "cell_type": "code",
   "execution_count": 11,
   "metadata": {
    "collapsed": false
   },
   "outputs": [],
   "source": [
    "vocabulary = ['🐍', '🐼', '📊']\n",
    "boring_vocabulary = [':snake:', ':panda_face:', ':computer:']\n",
    "num_terms = len(vocabulary)\n",
    "\n",
    "# Topics are distributions over vocabulary words\n",
    "topic_labels = ['☀', '☁']\n",
    "boring_topics = [':sunny:', ':cloud:']\n",
    "topics = [[ 0.1,  0.3,  0.6],\n",
    "          [ 0.8,  0.1,  0.1]]\n",
    "\n",
    "# Proportion of documents of each topic\n",
    "mixture_proportion = [0.3, 0.7]"
   ]
  },
  {
   "cell_type": "code",
   "execution_count": 12,
   "metadata": {
    "collapsed": false,
    "slideshow": {
     "slide_type": "slide"
    }
   },
   "outputs": [
    {
     "data": {
      "image/png": "[encoded data removed]",
      "text/plain": [
       "<matplotlib.figure.Figure at 0x10c1ce358>"
      ]
     },
     "metadata": {},
     "output_type": "display_data"
    }
   ],
   "source": [
    "pd.Series(mixture_proportion, index=boring_topics).plot(kind='barh')\n",
    "_=plt.title(\"Mixture Proportions\")"
   ]
  },
  {
   "cell_type": "code",
   "execution_count": 13,
   "metadata": {
    "collapsed": false,
    "slideshow": {
     "slide_type": "slide"
    }
   },
   "outputs": [
    {
     "data": {
      "image/png": "[encoded data removed]",
      "text/plain": [
       "<matplotlib.figure.Figure at 0x10c2878d0>"
      ]
     },
     "metadata": {},
     "output_type": "display_data"
    }
   ],
   "source": [
    "pd.DataFrame(topics, columns=boring_vocabulary, index=boring_topics).plot(kind='barh')\n",
    "_=plt.title(\"Word Distribution by Topic\")"
   ]
  },
  {
   "cell_type": "markdown",
   "metadata": {
    "slideshow": {
     "slide_type": "slide"
    }
   },
   "source": [
    "    ➡ Forward Sampling\n",
    "    \n",
    "Let's generate some documents!"
   ]
  },
  {
   "cell_type": "code",
   "execution_count": 14,
   "metadata": {
    "collapsed": false,
    "slideshow": {
     "slide_type": "-"
    }
   },
   "outputs": [
    {
     "name": "stdout",
     "output_type": "stream",
     "text": [
      "Document 01 (topic ☁): 🐍🐍🐍🐍🐍🐍🐍🐍🐍🐍🐍📊📊\n",
      "Document 02 (topic ☁): 🐍🐍🐍🐍🐍🐍🐍🐍🐍🐍🐍🐍\n",
      "Document 03 (topic ☁): 🐍🐍🐍🐍🐼📊\n",
      "Document 04 (topic ☁): 🐍🐍🐍🐍🐍🐍🐍🐍🐍🐍🐍🐍🐍🐍🐼🐼🐼📊📊\n",
      "Document 05 (topic ☁): 🐍🐍🐍🐍🐍🐍🐍🐼📊📊📊\n",
      "Document 06 (topic ☁): 🐍🐍🐍🐍🐍🐍🐍📊\n",
      "Document 07 (topic ☀): 🐍🐼🐼🐼📊📊📊📊📊📊📊\n",
      "Document 08 (topic ☁): 🐍🐍🐍🐍🐍🐼🐼📊\n",
      "Document 09 (topic ☁): 🐍🐍🐍🐍🐍🐍🐍🐍🐍🐼🐼\n",
      "Document 10 (topic ☁): 🐍🐍🐍🐍📊\n"
     ]
    },
    {
     "name": "stderr",
     "output_type": "stream",
     "text": [
      "/Users/tdhopper/miniconda/envs/understanding-lda/lib/python3.5/site-packages/ipykernel/__main__.py:6: DeprecationWarning: converting an array with ndim > 0 to an index will result in an error in the future\n"
     ]
    }
   ],
   "source": [
    "for doc_index in range(1, 11):\n",
    "    topic = np.random.choice(topic_labels, p=mixture_proportion)\n",
    "    doc_len = poisson(mu=10).rvs(size=1)\n",
    "    doc = sorted([np.random.choice(vocabulary, \n",
    "                                   p=topics[topic_labels.index(topic)]) \n",
    "                  for _ in range(doc_len)])\n",
    "    print(\"Document {:02d} (topic {}): {}\".format(doc_index, topic, ''.join(doc)))"
   ]
  },
  {
   "cell_type": "markdown",
   "metadata": {
    "slideshow": {
     "slide_type": "slide"
    }
   },
   "source": [
    "    \"\"\"\n",
    "    ⬅ Reversing the Process\n",
    "    \"\"\"\n",
    "\n",
    "Given a collection of documents...\n",
    "\n",
    "...find the topic for each document\n",
    "\n",
    "...find the distribution over topics\n",
    "\n",
    "...find the distribution over terms for each topic"
   ]
  },
  {
   "cell_type": "markdown",
   "metadata": {
    "slideshow": {
     "slide_type": "slide"
    }
   },
   "source": [
    "    \"\"\"\n",
    "    ⬅ Limitations of this Model\n",
    "    \"\"\"\n",
    "    \n",
    "* Word order irrelevant. (Bag-of-words assumption!)\n",
    "    * Ignores all linguistic structure!\n",
    "* Single topic per document.\n",
    "* Assumes we know # of topics!"
   ]
  },
  {
   "cell_type": "markdown",
   "metadata": {},
   "source": [
    "```\n",
    "➡ What if we sample the topic for each word?\n",
    "```"
   ]
  },
  {
   "cell_type": "code",
   "execution_count": 15,
   "metadata": {
    "collapsed": false,
    "slideshow": {
     "slide_type": "slide"
    }
   },
   "outputs": [
    {
     "name": "stderr",
     "output_type": "stream",
     "text": [
      "/Users/tdhopper/miniconda/envs/understanding-lda/lib/python3.5/site-packages/ipykernel/__main__.py:6: DeprecationWarning: converting an array with ndim > 0 to an index will result in an error in the future\n"
     ]
    }
   ],
   "source": [
    "docs = defaultdict(lambda: defaultdict(str))\n",
    "for doc_index in range(10):\n",
    "    doc_len = poisson(mu=10).rvs(size=1)\n",
    "    mixture_proportion = dirichlet([0.5, 0.5]).rvs()[0]\n",
    "    \n",
    "    for word in range(doc_len):\n",
    "        topic = np.random.choice(topic_labels, \n",
    "                                 p=mixture_proportion)\n",
    "        word_dist = topics[topic_labels.index(topic)]\n",
    "        word = np.random.choice(vocabulary, \n",
    "                                p=word_dist)\n",
    "        docs[doc_index+1][topic] += word\n",
    "        docs[doc_index+1][topic] = ''.join(sorted(docs[doc_index+1][topic]))"
   ]
  },
  {
   "cell_type": "code",
   "execution_count": 16,
   "metadata": {
    "collapsed": false,
    "slideshow": {
     "slide_type": "slide"
    }
   },
   "outputs": [
    {
     "name": "stdout",
     "output_type": "stream",
     "text": [
      "Doc 01\n",
      "  Words from topic ☀: 🐍🐼🐼🐼🐼🐼🐼📊📊📊📊📊\n",
      "  Words from topic ☁: 🐍\n",
      "Doc 02\n",
      "  Words from topic ☁: 🐍🐍🐍🐍🐍🐍🐍🐍📊\n",
      "Doc 03\n",
      "  Words from topic ☀: 📊📊📊\n",
      "  Words from topic ☁: 🐍🐍🐍🐍🐍🐍🐍🐍🐼🐼🐼\n",
      "Doc 04\n",
      "  Words from topic ☀: 🐍🐼🐼📊📊📊📊📊\n",
      "  Words from topic ☁: 🐍🐍🐼\n",
      "Doc 05\n",
      "  Words from topic ☁: 🐍🐍🐍🐍🐼📊📊📊📊\n",
      "Doc 06\n",
      "  Words from topic ☀: 🐼\n",
      "  Words from topic ☁: 🐍🐍🐍🐍🐍🐍🐍🐍🐍🐼🐼\n",
      "Doc 07\n",
      "  Words from topic ☀: 🐍🐍🐍🐼🐼🐼📊📊📊📊📊📊📊\n",
      "  Words from topic ☁: 🐍🐍📊\n",
      "Doc 08\n",
      "  Words from topic ☀: 📊📊\n",
      "  Words from topic ☁: 🐍🐍🐍🐍\n",
      "Doc 09\n",
      "  Words from topic ☀: 🐼🐼\n",
      "  Words from topic ☁: 🐍🐍🐍🐍🐍🐼📊📊\n",
      "Doc 10\n",
      "  Words from topic ☀: 🐼📊📊\n",
      "  Words from topic ☁: 🐍🐍🐍🐍🐍🐍🐍🐍📊\n"
     ]
    }
   ],
   "source": [
    "for doc_id, doc in docs.items():\n",
    "    print(\"Doc {:02d}\".format(doc_id))\n",
    "    for topic, words in doc.items():\n",
    "        print(\"  Words from topic {}: {}\".format(topic, words))"
   ]
  }
 ],
 "metadata": {
  "celltoolbar": "Slideshow",
  "kernelspec": {
   "display_name": "Python 3",
   "language": "python",
   "name": "python3"
  },
  "language_info": {
   "codemirror_mode": {
    "name": "ipython",
    "version": 3
   },
   "file_extension": ".py",
   "mimetype": "text/x-python",
   "name": "python",
   "nbconvert_exporter": "python",
   "pygments_lexer": "ipython3",
   "version": "3.5.0"
  }
 },
 "nbformat": 4,
 "nbformat_minor": 0
}
