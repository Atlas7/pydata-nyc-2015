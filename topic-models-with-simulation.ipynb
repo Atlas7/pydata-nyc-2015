{
 "cells": [
  {
   "cell_type": "code",
   "execution_count": 1,
   "metadata": {
    "collapsed": false,
    "slideshow": {
     "slide_type": "skip"
    }
   },
   "outputs": [],
   "source": [
    "%matplotlib inline\n",
    "import scipy as sp\n",
    "import numpy as np\n",
    "import pandas as pd\n",
    "import matplotlib.pyplot as plt\n",
    "import warnings\n",
    "import seaborn as sns\n",
    "\n",
    "from collections import defaultdict\n",
    "from itertools import groupby\n",
    "from sklearn import datasets\n",
    "from numpy import random\n",
    "from scipy.stats import dirichlet, norm, poisson\n",
    "\n",
    "warnings.filterwarnings(\"ignore\")\n",
    "sns.set_style(\"whitegrid\")\n",
    "random.seed(1234)"
   ]
  },
  {
   "cell_type": "markdown",
   "metadata": {
    "slideshow": {
     "slide_type": "slide"
    }
   },
   "source": [
    "# Understanding Probabilistic Topic Models By Simulation\n",
    "\n",
    "* Tim Hopper\n",
    "* [@tdhopper](https://twitter.com/tdhopper)\n",
    "* [stiglerdiet.com](http://www.stiglerdiet.com)\n",
    "* Data Science at [Distil Networks](distilnetworks.com)\n",
    "\n",
    "Slides available at http://bit.ly/lda-talk."
   ]
  },
  {
   "cell_type": "markdown",
   "metadata": {
    "slideshow": {
     "slide_type": "slide"
    }
   },
   "source": [
    "# What Is a Topic Model?"
   ]
  },
  {
   "cell_type": "markdown",
   "metadata": {
    "slideshow": {
     "slide_type": "slide"
    }
   },
   "source": [
    "# What is Latent Dirichlet Allocation?\n",
    "\n",
    "> LDA is a three-level hierarchical Bayesian model, in which each\n",
    "item of a collection is modeled as a finite mixture over an underlying set of topics. \n",
    "\n",
    "> Each topic is, in turn, modeled as an infinite mixture over an underlying set of topic probabilities.\n",
    "\n",
    "Duh.\n",
    "\n",
    "[[source](https://www.cs.princeton.edu/~blei/papers/BleiNgJordan2003.pdf)]"
   ]
  },
  {
   "cell_type": "markdown",
   "metadata": {
    "slideshow": {
     "slide_type": "slide"
    }
   },
   "source": [
    "# What is Latent Dirichlet Allocation?\n",
    "\n",
    "![](./static/lda.png)\n",
    "\n",
    "Duh."
   ]
  },
  {
   "cell_type": "markdown",
   "metadata": {
    "slideshow": {
     "slide_type": "slide"
    }
   },
   "source": [
    "# What is Latent Dirichlet Allocation?\n",
    "\n",
    "![](./static/graphical_model.png)\n",
    "\n",
    "Duh."
   ]
  },
  {
   "cell_type": "markdown",
   "metadata": {
    "slideshow": {
     "slide_type": "slide"
    }
   },
   "source": [
    "# What is Latent Dirichlet Allocation?\n",
    "\n",
    "$\n",
    "p(D \\,|\\, \\alpha, \\beta) =\n",
    "\\prod_{d=1}^M \\int p(\\theta_d \\,|\\, \\alpha )\n",
    "\\left(\n",
    "\\prod_{n=1}^{N_d}\n",
    "\\sum_{z_{dn}}\n",
    "p(z_{dn} \\,|\\, \\theta_d)\n",
    "p(w_dn \\,|\\, z_dn, \\beta)\n",
    "\\right)\n",
    "d \\theta_d\n",
    "$\n",
    "\n",
    "Duh."
   ]
  },
  {
   "cell_type": "markdown",
   "metadata": {
    "slideshow": {
     "slide_type": "-"
    }
   },
   "source": [
    "![](./static/sheldon.gif)"
   ]
  },
  {
   "cell_type": "code",
   "execution_count": 2,
   "metadata": {
    "collapsed": false,
    "slideshow": {
     "slide_type": "skip"
    }
   },
   "outputs": [],
   "source": [
    "iris = datasets.load_iris()\n",
    "df = pd.DataFrame(iris['data'], columns=iris['feature_names'])\n",
    "df['class'] = iris['target']\n",
    "df = df[df['class'].isin([0,2])]\n",
    "gby = df.groupby(by='class')['sepal length (cm)']\n",
    "hist_data = [gby.get_group(cid).tolist() \n",
    "             for cid in gby.groups.keys()]\n",
    "\n",
    "settings = {\"bins\": 10, \"histtype\": 'stepfilled', \"alpha\": .5}\n",
    "data = {\"x\": df['sepal length (cm)']}\n",
    "data.update(settings)\n",
    "data2 = {\"x\": hist_data }\n",
    "data2.update(settings)\n",
    "title = 'Sepal Length for Iris-Setosa and Iris-Virginica'"
   ]
  },
  {
   "cell_type": "markdown",
   "metadata": {
    "slideshow": {
     "slide_type": "slide"
    }
   },
   "source": [
    "# Naive Clustering"
   ]
  },
  {
   "cell_type": "markdown",
   "metadata": {
    "slideshow": {
     "slide_type": "notes"
    }
   },
   "source": [
    "Can we discriminate between Setosa and Virginica irises by modeling their sepal length as a mixture of Gaussians?"
   ]
  },
  {
   "cell_type": "code",
   "execution_count": 3,
   "metadata": {
    "collapsed": false
   },
   "outputs": [
    {
     "data": {
      "image/png": "[encoded data removed]",
      "text/plain": [
       "<matplotlib.figure.Figure at 0x10415a940>"
      ]
     },
     "metadata": {},
     "output_type": "display_data"
    }
   ],
   "source": [
    "plt.hist(**data);_=plt.title(title)"
   ]
  },
  {
   "cell_type": "markdown",
   "metadata": {
    "slideshow": {
     "slide_type": "slide"
    }
   },
   "source": [
    "# Naive Clustering"
   ]
  },
  {
   "cell_type": "code",
   "execution_count": 4,
   "metadata": {
    "collapsed": false,
    "slideshow": {
     "slide_type": "-"
    }
   },
   "outputs": [
    {
     "data": {
      "image/png": "[encoded data removed]",
      "text/plain": [
       "<matplotlib.figure.Figure at 0x1146c9cf8>"
      ]
     },
     "metadata": {},
     "output_type": "display_data"
    }
   ],
   "source": [
    "plt.hist(**data);plt.title(title);_=plt.axvline(5.8, color='black', linewidth=4)"
   ]
  },
  {
   "cell_type": "markdown",
   "metadata": {
    "slideshow": {
     "slide_type": "slide"
    }
   },
   "source": [
    "# Gaussian Mixture Models"
   ]
  },
  {
   "cell_type": "markdown",
   "metadata": {
    "slideshow": {
     "slide_type": "notes"
    }
   },
   "source": [
    "Here's what our actual underlying data looks like.\n",
    "\n",
    "Without knowing the _latent_ classes, we could _assume_ that each class is drawn from a normal distribution."
   ]
  },
  {
   "cell_type": "code",
   "execution_count": 5,
   "metadata": {
    "collapsed": false,
    "slideshow": {
     "slide_type": "-"
    }
   },
   "outputs": [
    {
     "data": {
      "image/png": "[encoded data removed]",
      "text/plain": [
       "<matplotlib.figure.Figure at 0x1173c0e48>"
      ]
     },
     "metadata": {},
     "output_type": "display_data"
    }
   ],
   "source": [
    "plt.hist(**data2);_=plt.title(title)"
   ]
  },
  {
   "cell_type": "markdown",
   "metadata": {
    "slideshow": {
     "slide_type": "slide"
    }
   },
   "source": [
    "    ➡ Forward Sampling\n",
    "Let's generate some data"
   ]
  },
  {
   "cell_type": "code",
   "execution_count": 6,
   "metadata": {
    "collapsed": false
   },
   "outputs": [],
   "source": [
    "# Fixed model parameters\n",
    "mixture_proportion = [0.50, 0.50]\n",
    "mean               = [5.01, 6.59]\n",
    "std                = [0.35, 0.64]\n",
    "\n",
    "data = []\n",
    "for _ in range(100):\n",
    "    iris_type = random.choice(2, p=mixture_proportion)\n",
    "    sepal_length = norm(loc=mean[iris_type], \n",
    "                        scale=std[iris_type]\n",
    "                       ).rvs()\n",
    "    \n",
    "    data.append((iris_type, sepal_length))"
   ]
  },
  {
   "cell_type": "code",
   "execution_count": 7,
   "metadata": {
    "collapsed": false,
    "slideshow": {
     "slide_type": "slide"
    }
   },
   "outputs": [
    {
     "data": {
      "image/png": "[encoded data removed]",
      "text/plain": [
       "<matplotlib.figure.Figure at 0x117be3cc0>"
      ]
     },
     "metadata": {},
     "output_type": "display_data"
    }
   ],
   "source": [
    "plt.hist([sepal_length for iris_type, sepal_length \n",
    "          in data if iris_type==0], **settings)\n",
    "plt.hist([sepal_length for iris_type, sepal_length \n",
    "          in data if iris_type==1], **settings)\n",
    "_=plt.title('Simulated Sepal Length for Iris-Setosa and Iris-Virginica')"
   ]
  },
  {
   "cell_type": "markdown",
   "metadata": {
    "slideshow": {
     "slide_type": "slide"
    }
   },
   "source": [
    "    ➡ Forward Sampling    \n",
    "Bayesian style!"
   ]
  },
  {
   "cell_type": "code",
   "execution_count": 8,
   "metadata": {
    "collapsed": false,
    "slideshow": {
     "slide_type": "-"
    }
   },
   "outputs": [],
   "source": [
    "# Distribution on parameters\n",
    "mixture_proportion = dirichlet(alpha=[1, 1]).rvs()[0]\n",
    "mean               = norm(loc=6, scale=1).rvs(size=2)\n",
    "std                = norm(loc=.5, scale=.2).rvs(size=2)\n",
    "\n",
    "data = []\n",
    "for z in range(1, 101):\n",
    "    iris_type = random.choice(2, p=mixture_proportion)\n",
    "    sepal_length = norm(loc=mean[iris_type], \n",
    "                        scale=std[iris_type]\n",
    "                       ).rvs()\n",
    "    data.append((iris_type, sepal_length))"
   ]
  },
  {
   "cell_type": "code",
   "execution_count": 9,
   "metadata": {
    "collapsed": false,
    "slideshow": {
     "slide_type": "slide"
    }
   },
   "outputs": [
    {
     "data": {
      "image/png": "[encoded data removed]",
      "text/plain": [
       "<matplotlib.figure.Figure at 0x117e26550>"
      ]
     },
     "metadata": {},
     "output_type": "display_data"
    }
   ],
   "source": [
    "plt.hist([sepal_length for iris_type, sepal_length \n",
    "          in data if iris_type==0], **settings)\n",
    "plt.hist([sepal_length for iris_type, sepal_length \n",
    "          in data if iris_type==1], **settings)\n",
    "_=plt.title('Simulated Sepal Length for Iris-Setosa and Iris-Virginica')"
   ]
  },
  {
   "cell_type": "markdown",
   "metadata": {
    "slideshow": {
     "slide_type": "slide"
    }
   },
   "source": [
    "    ➡ Forward Sampling\n",
    "    \n",
    "If we run sample again, our data looks completely different. These are samples from the distribution over this model."
   ]
  },
  {
   "cell_type": "code",
   "execution_count": 10,
   "metadata": {
    "collapsed": false,
    "slideshow": {
     "slide_type": "-"
    }
   },
   "outputs": [],
   "source": [
    "# Distribution on parameters\n",
    "mixture_proportion = dirichlet(alpha=[1, 1]).rvs()[0]\n",
    "mean               = norm(loc=6, scale=1).rvs(size=2)\n",
    "std                = norm(loc=.5, scale=.2).rvs(size=2)\n",
    "\n",
    "data = []\n",
    "for z in range(1, 101):\n",
    "    iris_type = random.choice(2, p=mixture_proportion)\n",
    "    sepal_length = norm(loc=mean[iris_type], scale=std[iris_type]).rvs()\n",
    "    data.append((iris_type, sepal_length))"
   ]
  },
  {
   "cell_type": "code",
   "execution_count": 11,
   "metadata": {
    "collapsed": false,
    "slideshow": {
     "slide_type": "slide"
    }
   },
   "outputs": [
    {
     "data": {
      "image/png": "[encoded data removed]",
      "text/plain": [
       "<matplotlib.figure.Figure at 0x117e3eef0>"
      ]
     },
     "metadata": {},
     "output_type": "display_data"
    }
   ],
   "source": [
    "plt.hist([sepal_length for iris_type, sepal_length \n",
    "          in data if iris_type==0], **settings)\n",
    "plt.hist([sepal_length for iris_type, sepal_length \n",
    "          in data if iris_type==1], **settings)\n",
    "_=plt.title('Simulated Sepal Length for Iris-Setosa and Iris-Virginica')"
   ]
  },
  {
   "cell_type": "markdown",
   "metadata": {
    "slideshow": {
     "slide_type": "slide"
    }
   },
   "source": [
    "    \"\"\"\n",
    "    ⬅ Reversing the Process\n",
    "    \"\"\"\n",
    "\n",
    "Given data without cluster assignments (in no particular order)...\n",
    "\n",
    "...find the cluster for each point\n",
    "\n",
    "...find the parameters of each cluster (or distribution over parameters)\n",
    "\n",
    "...find the mixture proportion (or distribution proportions)\n",
    "\n",
    "----\n"
   ]
  },
  {
   "cell_type": "markdown",
   "metadata": {
    "slideshow": {
     "slide_type": "fragment"
    }
   },
   "source": [
    "\n",
    "You can do this with MCMC as in [PyMC3](https://github.com/pymc-devs/pymc3/blob/5317dd4ba1e413003aa80e9746e4e99143654183/docs/source/notebooks/gaussian_mixture_model.ipynb). See also [this notebook](http://nbviewer.ipython.org/github/tdhopper/notes-on-dirichlet-processes/blob/master/2015-09-02-fitting-a-mixture-model.ipynb)."
   ]
  },
  {
   "cell_type": "markdown",
   "metadata": {
    "slideshow": {
     "slide_type": "slide"
    }
   },
   "source": [
    "# Discrete Mixture Model\n",
    "\n",
    "There's nothing inheriently special about the normal distribution. (👈Not actually true.)"
   ]
  },
  {
   "cell_type": "code",
   "execution_count": 12,
   "metadata": {
    "collapsed": false
   },
   "outputs": [],
   "source": [
    "vocabulary = ['🐍', '🐼', '📊']\n",
    "mixture_proportion = [0.3, 0.7]\n",
    "cluster_distributions = [[0.33, 0.33, 0.34], \n",
    "                         [0.2, 0.8, 0.0], \n",
    "                         [0.5, 0.1, 0.4]]\n",
    "\n",
    "docs = defaultdict(str)\n",
    "for _ in range(100):\n",
    "    cluster = random.choice(len(mixture_proportion), \n",
    "                            p=mixture_proportion)\n",
    "    docs[cluster] += random.choice(vocabulary, \n",
    "                                   p=cluster_distributions[cluster])\n",
    "    docs[cluster] = ''.join(sorted(docs[cluster]))"
   ]
  },
  {
   "cell_type": "code",
   "execution_count": 13,
   "metadata": {
    "collapsed": false,
    "slideshow": {
     "slide_type": "fragment"
    }
   },
   "outputs": [
    {
     "name": "stdout",
     "output_type": "stream",
     "text": [
      "Cluster 1:  🐍🐍🐍🐍🐍🐍🐍🐍🐼🐼🐼🐼🐼📊📊📊📊📊📊📊📊📊📊\n",
      "Cluster 2:  🐍🐍🐍🐍🐍🐍🐍🐍🐍🐍🐍🐼🐼🐼🐼🐼🐼🐼🐼🐼🐼🐼🐼🐼🐼🐼🐼🐼🐼🐼🐼🐼🐼🐼🐼🐼🐼🐼🐼🐼🐼🐼🐼🐼🐼🐼🐼🐼🐼🐼🐼🐼🐼🐼🐼🐼🐼🐼🐼🐼🐼🐼🐼🐼🐼🐼🐼🐼🐼🐼🐼🐼🐼🐼🐼🐼🐼\n"
     ]
    }
   ],
   "source": [
    "for cluster, doc in docs.items():\n",
    "    print(\"Cluster {}: \".format(cluster+1), doc)"
   ]
  },
  {
   "cell_type": "markdown",
   "metadata": {
    "slideshow": {
     "slide_type": "slide"
    }
   },
   "source": [
    "    ➡ Forward Sampling    \n",
    "Bayesian style!"
   ]
  },
  {
   "cell_type": "code",
   "execution_count": 14,
   "metadata": {
    "collapsed": false
   },
   "outputs": [],
   "source": [
    "vocabulary = ['🐍', '🐼', '📊']\n",
    "num_clusters = 2\n",
    "mixture_proportion = dirichlet(alpha=num_clusters*[1]).rvs()[0]\n",
    "cluster_distributions = (dirichlet(alpha=[1, 1, 1])\n",
    "                         .rvs(size=num_clusters))\n",
    "\n",
    "docs = defaultdict(str)\n",
    "for _ in range(100):\n",
    "    cluster = random.choice(num_clusters, \n",
    "                            p=mixture_proportion)\n",
    "    docs[cluster] += random.choice(vocabulary, \n",
    "                                   p=cluster_distributions[cluster])\n",
    "    docs[cluster] = ''.join(sorted(docs[cluster]))"
   ]
  },
  {
   "cell_type": "code",
   "execution_count": 15,
   "metadata": {
    "collapsed": false,
    "slideshow": {
     "slide_type": "fragment"
    }
   },
   "outputs": [
    {
     "name": "stdout",
     "output_type": "stream",
     "text": [
      "Cluster 1: 🐍\n",
      "Cluster 2: 🐍🐍🐍🐍🐍🐍🐍🐍🐍🐍🐍🐍🐍🐍🐍🐍🐍🐍🐍🐍🐍🐍🐍🐍🐍🐍🐍🐍🐍🐍🐍🐍🐍🐍🐍🐍🐍🐍🐍🐍🐍🐍🐍🐍🐍🐍🐍🐍🐼🐼🐼🐼🐼🐼🐼🐼🐼🐼🐼🐼🐼🐼🐼📊📊📊📊📊📊📊📊📊📊📊📊📊📊📊📊📊📊📊📊📊📊📊📊📊📊📊📊📊📊📊📊📊📊📊📊\n"
     ]
    }
   ],
   "source": [
    "for cluster, doc in docs.items():\n",
    "    print(end=\"Cluster {}: \".format(cluster+1))\n",
    "    print(doc)"
   ]
  },
  {
   "cell_type": "markdown",
   "metadata": {
    "slideshow": {
     "slide_type": "slide"
    }
   },
   "source": [
    "### Excursis: Bag of Words Assumption"
   ]
  },
  {
   "cell_type": "code",
   "execution_count": 16,
   "metadata": {
    "collapsed": false
   },
   "outputs": [
    {
     "data": {
      "text/plain": [
       "'a a although although although ambiguity and are arent at bad be be be beats beautiful better better better better better better better better break cases complex complex complicated counts dense do do dutch easy enough errors explain explain explicit explicitly face first flat good great guess hard honking idea idea idea if if implementation implementation implicit in is is is is is is is is is is it it its lets may may more namespaces nested never never never not now now obvious obvious of of often one one one only pass practicality preferably purity readability refuse right rules should should silenced silently simple sparse special special temptation than than than than than than than than that the the the the the there those to to to to to ugly unless unless way way youre'"
      ]
     },
     "execution_count": 16,
     "metadata": {},
     "output_type": "execute_result"
    }
   ],
   "source": [
    "import collections\n",
    "this = 'beautiful is better than ugly explicit is better than implicit simple is better than complex complex is better than complicated flat is better than nested sparse is better than dense readability counts special cases arent special enough to break the rules although practicality beats purity errors should never pass silently unless explicitly silenced in the face of ambiguity refuse the temptation to guess there should be one and preferably only one obvious way to do it although that way may not be obvious at first unless youre dutch now is better than never although never is often better than right now if the implementation is hard to explain its a bad idea if the implementation is easy to explain it may be a good idea namespaces are one honking great idea lets do more of those'\n",
    "' '.join(sorted(this.split(' ')))"
   ]
  },
  {
   "cell_type": "markdown",
   "metadata": {
    "slideshow": {
     "slide_type": "slide"
    }
   },
   "source": [
    "### Excursis: Bag of Words Assumption"
   ]
  },
  {
   "cell_type": "markdown",
   "metadata": {
    "slideshow": {
     "slide_type": "-"
    }
   },
   "source": [
    "![](static/blei-f1.jpg)\n",
    "\n",
    "[source](http://cacm.acm.org/magazines/2012/4/147361-probabilistic-topic-models/fulltext)"
   ]
  },
  {
   "cell_type": "markdown",
   "metadata": {
    "slideshow": {
     "slide_type": "slide"
    }
   },
   "source": [
    "## Mixture Model for Documents (Grouped Data)\n"
   ]
  },
  {
   "cell_type": "code",
   "execution_count": 17,
   "metadata": {
    "collapsed": false
   },
   "outputs": [],
   "source": [
    "vocabulary = ['🐍', '🐼', '📊']; \n",
    "boring_vocabulary = [':snake:', ':panda_face:', ':bar_chart:']\n",
    "num_terms = len(vocabulary)\n",
    "\n",
    "# Topics are distributions over vocabulary words\n",
    "topic_labels = ['☀', '☁']\n",
    "boring_topics = [':sunny:', ':cloud:']\n",
    "topics = [[ 0.1,  0.3,  0.6],\n",
    "          [ 0.8,  0.1,  0.1]]\n",
    "\n",
    "# Proportion of documents of each topic\n",
    "mixture_proportion = [0.3, 0.7]"
   ]
  },
  {
   "cell_type": "code",
   "execution_count": 18,
   "metadata": {
    "collapsed": false,
    "slideshow": {
     "slide_type": "slide"
    }
   },
   "outputs": [
    {
     "data": {
      "image/png": "[encoded data removed]",
      "text/plain": [
       "<matplotlib.figure.Figure at 0x11477cfd0>"
      ]
     },
     "metadata": {},
     "output_type": "display_data"
    }
   ],
   "source": [
    "pd.Series(mixture_proportion, index=boring_topics).plot(kind='barh')\n",
    "_=plt.title(\"Mixture Proportions\")"
   ]
  },
  {
   "cell_type": "code",
   "execution_count": 19,
   "metadata": {
    "collapsed": false,
    "slideshow": {
     "slide_type": "slide"
    }
   },
   "outputs": [
    {
     "data": {
      "image/png": "[encoded data removed]",
      "text/plain": [
       "<matplotlib.figure.Figure at 0x117e52898>"
      ]
     },
     "metadata": {},
     "output_type": "display_data"
    }
   ],
   "source": [
    "pd.DataFrame(topics, columns=boring_vocabulary, index=boring_topics).plot(kind='barh')\n",
    "_=plt.title(\"Word Distribution by Topic\")"
   ]
  },
  {
   "cell_type": "markdown",
   "metadata": {
    "slideshow": {
     "slide_type": "slide"
    }
   },
   "source": [
    "    ➡ Forward Sampling\n",
    "Let's generate some documents!"
   ]
  },
  {
   "cell_type": "code",
   "execution_count": 20,
   "metadata": {
    "collapsed": false,
    "slideshow": {
     "slide_type": "-"
    }
   },
   "outputs": [
    {
     "name": "stdout",
     "output_type": "stream",
     "text": [
      "Document 01 (topic ☁): 🐍🐍🐍🐍🐍🐍📊\n",
      "Document 02 (topic ☁): 🐍🐍🐍🐍🐍🐍🐍🐍🐍🐍🐼🐼\n",
      "Document 03 (topic ☁): 🐍🐍🐍🐍\n",
      "Document 04 (topic ☀): 🐍🐼🐼📊📊📊📊📊📊\n",
      "Document 05 (topic ☀): 🐼🐼🐼📊📊📊📊📊\n",
      "Document 06 (topic ☁): 🐍🐍🐍🐍🐍🐍🐍🐍🐍🐍🐍🐼🐼🐼\n",
      "Document 07 (topic ☁): 🐍🐍🐍🐍🐍🐍🐍🐍🐍🐍🐍🐼🐼\n",
      "Document 08 (topic ☀): 🐼🐼🐼📊📊📊📊📊📊📊📊📊\n",
      "Document 09 (topic ☀): 🐼🐼📊📊📊📊📊📊📊\n",
      "Document 10 (topic ☀): 🐼🐼🐼🐼📊📊📊📊📊📊📊📊\n"
     ]
    }
   ],
   "source": [
    "for doc_index in range(1, 11):\n",
    "    topic = random.choice(topic_labels, p=mixture_proportion)\n",
    "    doc_len = poisson(mu=10).rvs(size=1)\n",
    "    doc = sorted([random.choice(vocabulary, \n",
    "                                   p=topics[topic_labels.index(topic)]) \n",
    "                  for _ in range(doc_len)])\n",
    "    print(\"Document {:02d} (topic {}): {}\".format(doc_index, topic, ''.join(doc)))"
   ]
  },
  {
   "cell_type": "markdown",
   "metadata": {
    "slideshow": {
     "slide_type": "slide"
    }
   },
   "source": [
    "    \"\"\"\n",
    "    ⬅ Reversing the Process\n",
    "    \"\"\"\n",
    "\n",
    "Given a collection of documents...\n",
    "\n",
    "...find the topic for each document\n",
    "\n",
    "...find the distribution over topics\n",
    "\n",
    "...find the distribution over terms for each topic"
   ]
  },
  {
   "cell_type": "markdown",
   "metadata": {
    "slideshow": {
     "slide_type": "slide"
    }
   },
   "source": [
    "    \"\"\"\n",
    "    ⬅ Limitations of this Model\n",
    "    \"\"\"\n",
    "    \n",
    "* __Single topic per document.__\n",
    "* Word order irrelevant. (Bag-of-words assumption!)\n",
    "* Assumes we know # of topics!"
   ]
  },
  {
   "cell_type": "markdown",
   "metadata": {
    "slideshow": {
     "slide_type": "fragment"
    }
   },
   "source": [
    "```\n",
    "➡ What if we sample the topic for each word?\n",
    "```"
   ]
  },
  {
   "cell_type": "code",
   "execution_count": 21,
   "metadata": {
    "collapsed": false,
    "slideshow": {
     "slide_type": "slide"
    }
   },
   "outputs": [],
   "source": [
    "# recycle our `topics` sampled from the Dirichlet distribution\n",
    "\n",
    "docs = defaultdict(lambda: defaultdict(str))\n",
    "for doc_index in range(10):\n",
    "    doc_len = poisson(mu=10).rvs(size=1)\n",
    "    mixture_proportion = dirichlet([0.5, 0.5]).rvs()[0]\n",
    "    \n",
    "    for word in range(doc_len):\n",
    "        topic = random.choice(topic_labels, \n",
    "                                 p=mixture_proportion)\n",
    "        word_dist = topics[topic_labels.index(topic)]\n",
    "        word = random.choice(vocabulary, \n",
    "                                p=word_dist)\n",
    "        docs[doc_index+1][topic] += word\n",
    "        \n",
    "        docs[doc_index+1][topic] = ''.join(sorted(docs[doc_index+1][topic]))"
   ]
  },
  {
   "cell_type": "markdown",
   "metadata": {},
   "source": [
    "```\n",
    "⬆ Generative model for latent dirichlet allocation\n",
    "```"
   ]
  },
  {
   "cell_type": "code",
   "execution_count": 22,
   "metadata": {
    "collapsed": false,
    "slideshow": {
     "slide_type": "slide"
    }
   },
   "outputs": [
    {
     "name": "stdout",
     "output_type": "stream",
     "text": [
      "Doc 01\n",
      "  Words from topic ☁: 🐍🐍🐍🐍🐍🐼\n",
      "  Words from topic ☀: 🐼🐼📊📊📊📊\n",
      "Doc 02\n",
      "  Words from topic ☁: 🐍🐍🐍\n",
      "  Words from topic ☀: 🐍📊📊📊\n",
      "Doc 03\n",
      "  Words from topic ☁: 🐍📊\n",
      "  Words from topic ☀: 🐼🐼📊📊📊📊\n",
      "Doc 04\n",
      "  Words from topic ☀: 🐍🐼🐼🐼🐼📊\n",
      "Doc 05\n",
      "  Words from topic ☁: 🐍🐍🐍🐍🐍🐍🐼📊\n",
      "  Words from topic ☀: 🐼\n",
      "Doc 06\n",
      "  Words from topic ☀: 🐍🐍🐍🐼🐼🐼🐼🐼🐼📊📊📊📊📊📊📊📊📊📊📊📊📊\n",
      "Doc 07\n",
      "  Words from topic ☁: 🐍🐍🐍🐍🐍🐍🐼\n",
      "  Words from topic ☀: 🐼📊\n",
      "Doc 08\n",
      "  Words from topic ☁: 📊\n",
      "  Words from topic ☀: 🐼📊📊📊📊📊\n",
      "Doc 09\n",
      "  Words from topic ☀: 🐍🐍🐼🐼🐼🐼🐼📊📊📊📊📊📊\n",
      "Doc 10\n",
      "  Words from topic ☁: 🐍🐍🐍🐍🐼\n",
      "  Words from topic ☀: 📊📊📊\n"
     ]
    }
   ],
   "source": [
    "for doc_id, doc in docs.items():\n",
    "    print(\"Doc {:02d}\".format(doc_id))\n",
    "    for topic, words in doc.items():\n",
    "        print(\"  Words from topic {}: {}\".format(topic, words))"
   ]
  },
  {
   "cell_type": "markdown",
   "metadata": {
    "slideshow": {
     "slide_type": "slide"
    }
   },
   "source": [
    "### Excursis: Multi-topic documents"
   ]
  },
  {
   "cell_type": "markdown",
   "metadata": {},
   "source": [
    "![](static/buffalo.png)\n",
    "\n",
    "[source](https://en.wikipedia.org/wiki/Buffalo_buffalo_Buffalo_buffalo_buffalo_buffalo_Buffalo_buffalo)"
   ]
  },
  {
   "cell_type": "markdown",
   "metadata": {
    "slideshow": {
     "slide_type": "slide"
    }
   },
   "source": [
    "    \"\"\"\n",
    "    ⬅ Reversing the Process\n",
    "    \"\"\"\n",
    "\n",
    "Given a collection of documents...\n",
    "\n",
    "Given each word in each document...\n",
    "\n",
    "...find the topic for each __word__\n",
    "\n",
    "...find the distribution over topics for each __document__\n",
    "\n",
    "...find the distribution over terms for each topic"
   ]
  },
  {
   "cell_type": "markdown",
   "metadata": {
    "slideshow": {
     "slide_type": "fragment"
    }
   },
   "source": [
    "------\n",
    "You can do this with MCMC (Gibbs sampling), variational inference, etc. "
   ]
  },
  {
   "cell_type": "markdown",
   "metadata": {
    "slideshow": {
     "slide_type": "slide"
    }
   },
   "source": [
    "    \"\"\"\n",
    "    ⬅ Limitations of this Model\n",
    "    \"\"\"\n",
    "\n",
    "* <strike>Single topic per document.</strike>\n",
    "* Word order irrelevant. \n",
    "    * (See Hanna Wallach's work for possible ideas.)\n",
    "* Assumes we know # of topics!\n",
    "    * (See hierarchical Dirichlet process models ideas.)"
   ]
  },
  {
   "cell_type": "markdown",
   "metadata": {
    "slideshow": {
     "slide_type": "fragment"
    }
   },
   "source": [
    "(There are more.)"
   ]
  },
  {
   "cell_type": "markdown",
   "metadata": {
    "collapsed": true,
    "slideshow": {
     "slide_type": "slide"
    }
   },
   "source": [
    "# Questions?\n",
    "\n",
    "\n",
    "-------\n",
    "\n",
    "* Tim Hopper\n",
    "* [@tdhopper](https://twitter.com/tdhopper)\n",
    "* [stiglerdiet.com](http://www.stiglerdiet.com)\n",
    "\n",
    "------\n",
    "\n",
    "Read More:\n",
    "\n",
    "* [Probabilistic Topic Models](http://cacm.acm.org/magazines/2012/4/147361-probabilistic-topic-models/fulltext) by David Blei, 2012\n",
    "* [Introduction to Latent Dirichlet Allocation](http://blog.echen.me/2011/08/22/introduction-to-latent-dirichlet-allocation/) by Edwin Chen\n",
    "* [lda package](https://github.com/ariddell/lda) by Allen Riddell\n",
    "* [pyLDAvis package](https://pyldavis.readthedocs.org/en/latest/) by Ben Mabey [(example notebook)](http://nbviewer.ipython.org/github/bmabey/pyLDAvis/blob/master/notebooks/pyLDAvis_overview.ipynb)\n",
    "* [Finding Scientific Topics](http://psiexp.ss.uci.edu/research/papers/sciencetopics.pdf) by Thomas L. Griffiths and Mark Steyvers\n",
    "\n",
    "-----\n",
    "\n",
    "\n"
   ]
  }
 ],
 "metadata": {
  "anaconda-cloud": {},
  "celltoolbar": "Slideshow",
  "kernelspec": {
   "display_name": "Python [understanding-lda]",
   "language": "python",
   "name": "Python [understanding-lda]"
  },
  "language_info": {
   "codemirror_mode": {
    "name": "ipython",
    "version": 3
   },
   "file_extension": ".py",
   "mimetype": "text/x-python",
   "name": "python",
   "nbconvert_exporter": "python",
   "pygments_lexer": "ipython3",
   "version": "3.5.2"
  }
 },
 "nbformat": 4,
 "nbformat_minor": 0
}
