{
 "cells": [
  {
   "cell_type": "code",
   "execution_count": 17,
   "metadata": {
    "collapsed": true,
    "slideshow": {
     "slide_type": "skip"
    }
   },
   "outputs": [],
   "source": [
    "%matplotlib inline\n",
    "import scipy as sp\n",
    "import numpy as np\n",
    "import pandas as pd\n",
    "import matplotlib.pyplot as plt\n",
    "\n",
    "from collections import defaultdict\n",
    "from itertools import groupby\n",
    "from sklearn import datasets\n",
    "from scipy import stats\n",
    "\n",
    "np.random.seed(1234)"
   ]
  },
  {
   "cell_type": "markdown",
   "metadata": {
    "slideshow": {
     "slide_type": "slide"
    }
   },
   "source": [
    "# Understanding Probabilistic Topic Models By Simulation\n",
    "\n",
    "* Tim Hopper\n",
    "* [@tdhopper](https://twitter.com/tdhopper)\n",
    "* Data Science at [Distil Networks](distilnetworks.com)\n",
    "\n",
    "Slides available at https://github.com/tdhopper/pydata-nyc-2015"
   ]
  },
  {
   "cell_type": "markdown",
   "metadata": {
    "slideshow": {
     "slide_type": "slide"
    }
   },
   "source": [
    "# What is Latent Dirichlet Allocation?\n",
    "\n",
    "> LDA is a three-level hierarchical Bayesian model, in which each\n",
    "item of a collection is modeled as a finite mixture over an underlying set of topics. \n",
    "\n",
    "> Each topic is, in turn, modeled as an infinite mixture over an underlying set of topic probabilities.\n",
    "\n",
    "Duh.\n",
    "\n",
    "[[source](https://www.cs.princeton.edu/~blei/papers/BleiNgJordan2003.pdf)]"
   ]
  },
  {
   "cell_type": "markdown",
   "metadata": {
    "slideshow": {
     "slide_type": "slide"
    }
   },
   "source": [
    "# What is Latent Dirichlet Allocation?\n",
    "\n",
    "![](./static/graphical_model.png)\n",
    "\n",
    "Duh."
   ]
  },
  {
   "cell_type": "markdown",
   "metadata": {
    "slideshow": {
     "slide_type": "slide"
    }
   },
   "source": [
    "# What is Latent Dirichlet Allocation?\n",
    "\n",
    "$$\n",
    "p(D \\,|\\, \\alpha, \\beta) =\n",
    "\\prod_{d=1}^M \\int p(\\theta_d \\,|\\, \\alpha \n",
    "\\left(\n",
    "\\prod_{n=1}^{N_d}\n",
    "\\sum_{z_{dn}}\n",
    "p(z_{dn} \\,|\\, \\theta_d)\n",
    "p(w_dn \\,|\\, z_dn, \\beta)\n",
    "\\right)\n",
    "d \\theta_d\n",
    "$$\n",
    "\n",
    "Duh."
   ]
  },
  {
   "cell_type": "markdown",
   "metadata": {
    "slideshow": {
     "slide_type": "slide"
    }
   },
   "source": [
    "![](./static/sheldon.gif)"
   ]
  },
  {
   "cell_type": "code",
   "execution_count": 2,
   "metadata": {
    "collapsed": false,
    "slideshow": {
     "slide_type": "skip"
    }
   },
   "outputs": [],
   "source": [
    "iris = datasets.load_iris()\n",
    "df = pd.DataFrame(iris['data'], columns=iris['feature_names'])\n",
    "df['class'] = iris['target']\n",
    "df = df[df['class'].isin([0,2])]\n",
    "gby = df.groupby(by='class')['sepal length (cm)']\n",
    "hist_data = [gby.get_group(cid).tolist() \n",
    "             for cid in gby.groups.keys()]\n",
    "\n",
    "settings = {\"bins\": 10, \"histtype\": 'stepfilled', \"alpha\": .5}\n",
    "data = {\"x\": df['sepal length (cm)']}\n",
    "data.update(settings)\n",
    "data2 = {\"x\": hist_data }\n",
    "data2.update(settings)\n",
    "title = 'Sepal Length for Iris-Setosa and Iris-Virginica'"
   ]
  },
  {
   "cell_type": "markdown",
   "metadata": {
    "slideshow": {
     "slide_type": "slide"
    }
   },
   "source": [
    "# Gaussian Mixture Models"
   ]
  },
  {
   "cell_type": "markdown",
   "metadata": {
    "slideshow": {
     "slide_type": "notes"
    }
   },
   "source": [
    "Can we discriminate between Setosa and Virginica irises by modeling their sepal length as a mixture of Gaussians?"
   ]
  },
  {
   "cell_type": "code",
   "execution_count": 3,
   "metadata": {
    "collapsed": false
   },
   "outputs": [
    {
     "data": {
      "image/png": "[encoded data removed]",
      "text/plain": [
       "<matplotlib.figure.Figure at 0x10581bc18>"
      ]
     },
     "metadata": {},
     "output_type": "display_data"
    }
   ],
   "source": [
    "plt.hist(**data);_=plt.title(title)"
   ]
  },
  {
   "cell_type": "markdown",
   "metadata": {
    "slideshow": {
     "slide_type": "slide"
    }
   },
   "source": [
    "# Gaussian Mixture Models"
   ]
  },
  {
   "cell_type": "code",
   "execution_count": 4,
   "metadata": {
    "collapsed": false,
    "slideshow": {
     "slide_type": "-"
    }
   },
   "outputs": [
    {
     "data": {
      "image/png": "[encoded data removed]",
      "text/plain": [
       "<matplotlib.figure.Figure at 0x10b987550>"
      ]
     },
     "metadata": {},
     "output_type": "display_data"
    }
   ],
   "source": [
    "plt.hist(**data2);_=plt.title(title)"
   ]
  },
  {
   "cell_type": "markdown",
   "metadata": {
    "slideshow": {
     "slide_type": "slide"
    }
   },
   "source": [
    "    ➡ Forward Sampling\n",
    "    \n",
    "Let's generate some data"
   ]
  },
  {
   "cell_type": "code",
   "execution_count": 5,
   "metadata": {
    "collapsed": true
   },
   "outputs": [],
   "source": [
    "# Fixed model parameters\n",
    "mixture_proportion = [0.5, 0.5]\n",
    "mean = [5.01, 6.59]\n",
    "std  = [0.35, 0.64]\n",
    "\n",
    "data = []\n",
    "for z in range(1, 101):\n",
    "    iris_type = np.random.choice(2, p=mixture_proportion)\n",
    "    sepal_length = stats.norm(loc=mean[iris_type], scale=std[iris_type]).rvs()\n",
    "    data.append((iris_type, sepal_length))"
   ]
  },
  {
   "cell_type": "code",
   "execution_count": 6,
   "metadata": {
    "collapsed": false,
    "slideshow": {
     "slide_type": "fragment"
    }
   },
   "outputs": [
    {
     "data": {
      "image/png": "[encoded data removed]",
      "text/plain": [
       "<matplotlib.figure.Figure at 0x10b987e48>"
      ]
     },
     "metadata": {},
     "output_type": "display_data"
    }
   ],
   "source": [
    "plt.hist([sepal_length for iris_type, sepal_length in data if iris_type==0], **settings)\n",
    "plt.hist([sepal_length for iris_type, sepal_length in data if iris_type==1], **settings)\n",
    "_=plt.title('Simulated Sepal Length for Iris-Setosa and Iris-Virginica')"
   ]
  },
  {
   "cell_type": "markdown",
   "metadata": {
    "slideshow": {
     "slide_type": "slide"
    }
   },
   "source": [
    "    ➡ Forward Sampling\n",
    "    \n",
    "Bayesian style!"
   ]
  },
  {
   "cell_type": "code",
   "execution_count": 7,
   "metadata": {
    "collapsed": false,
    "slideshow": {
     "slide_type": "-"
    }
   },
   "outputs": [],
   "source": [
    "# Prior distribution on parameters\n",
    "mixture_proportion = stats.dirichlet(alpha=[1, 1]).rvs()[0]\n",
    "mean = stats.norm(loc=6, scale=1).rvs(size=2)\n",
    "std  = stats.norm(loc=.5, scale=.2).rvs(size=2)\n",
    "\n",
    "data = []\n",
    "for z in range(1, 101):\n",
    "    iris_type = np.random.choice(2, p=mixture_proportion)\n",
    "    sepal_length = stats.norm(loc=mean[iris_type], scale=std[iris_type]).rvs()\n",
    "    data.append((iris_type, sepal_length))"
   ]
  },
  {
   "cell_type": "code",
   "execution_count": 8,
   "metadata": {
    "collapsed": false,
    "slideshow": {
     "slide_type": "fragment"
    }
   },
   "outputs": [
    {
     "data": {
      "image/png": "[encoded data removed]",
      "text/plain": [
       "<matplotlib.figure.Figure at 0x10bd56320>"
      ]
     },
     "metadata": {},
     "output_type": "display_data"
    }
   ],
   "source": [
    "plt.hist([sepal_length for iris_type, sepal_length in data if iris_type==0], **settings)\n",
    "plt.hist([sepal_length for iris_type, sepal_length in data if iris_type==1], **settings)\n",
    "_=plt.title('Simulated Sepal Length for Iris-Setosa and Iris-Virginica')"
   ]
  },
  {
   "cell_type": "markdown",
   "metadata": {
    "slideshow": {
     "slide_type": "slide"
    }
   },
   "source": [
    "    \"\"\"\n",
    "    ⬅ Reversing the Process\n",
    "    \"\"\"\n",
    "\n",
    "Given data without cluster assignments...\n",
    "\n",
    "...find the cluster for each point\n",
    "\n",
    "...find the parameters of each cluster\n",
    "\n",
    "...find the mixture proportion\n",
    "\n",
    "[You can do exactly this with PyMC3.](https://github.com/pymc-devs/pymc3/blob/master/pymc3/examples/gaussian_mixture_model.ipynb)"
   ]
  },
  {
   "cell_type": "markdown",
   "metadata": {
    "slideshow": {
     "slide_type": "slide"
    }
   },
   "source": [
    "# Discrete Mixture Models"
   ]
  },
  {
   "cell_type": "code",
   "execution_count": 27,
   "metadata": {
    "collapsed": false
   },
   "outputs": [],
   "source": [
    "num_clusters = 2\n",
    "# Prior distribution on parameters\n",
    "mixture_proportion = stats.dirichlet(alpha=num_clusters*[1]).rvs()[0]\n",
    "cluster_distributions = stats.dirichlet(alpha=[1, 1, 1]).rvs(size=num_clusters)\n",
    "\n",
    "docs = defaultdict(str)\n",
    "for z in range(100):\n",
    "    cluster = np.random.choice(num_clusters, p=mixture_proportion)\n",
    "    docs[cluster] += np.random.choice(['🐭', '🐘', '🐒'], p=cluster_distributions[cluster])\n",
    "    docs[cluster] = ''.join(sorted(docs[cluster]))"
   ]
  },
  {
   "cell_type": "code",
   "execution_count": 41,
   "metadata": {
    "collapsed": false
   },
   "outputs": [
    {
     "name": "stdout",
     "output_type": "stream",
     "text": [
      "Cluster 1: 🐒🐒🐒🐒🐒🐒🐒🐒🐒🐒🐒🐒🐒🐒🐘🐘🐘🐘🐘🐭🐭🐭🐭🐭🐭🐭🐭🐭🐭🐭🐭🐭🐭🐭🐭🐭🐭🐭🐭🐭🐭🐭🐭🐭🐭🐭🐭🐭🐭🐭🐭🐭🐭🐭🐭🐭🐭🐭🐭🐭🐭🐭🐭🐭🐭🐭🐭🐭🐭🐭\n",
      "Cluster 2: 🐒🐒🐒🐒🐒🐒🐒🐘🐘🐘🐘🐘🐘🐘🐘🐘🐘🐘🐘🐘🐭🐭🐭🐭🐭🐭🐭🐭🐭🐭\n"
     ]
    }
   ],
   "source": [
    "for cluster, doc in docs.items():\n",
    "    print(end=\"Cluster {}: \".format(cluster+1))\n",
    "    print(doc)"
   ]
  },
  {
   "cell_type": "markdown",
   "metadata": {
    "slideshow": {
     "slide_type": "slide"
    }
   },
   "source": [
    "## Mixture Model for Documents\n"
   ]
  },
  {
   "cell_type": "code",
   "execution_count": 35,
   "metadata": {
    "collapsed": false
   },
   "outputs": [],
   "source": [
    "vocabulary = ['🐍', '🐼', '📊']\n",
    "boring_vocabulary = [':snake:', ':panda_face:', ':computer:']\n",
    "num_terms = len(vocabulary)\n",
    "\n",
    "# Topics are distributions over vocabulary words\n",
    "topic_labels = ['☀', '☁']\n",
    "boring_topics = [':sunny:', ':cloud:']\n",
    "topics = [[ 0.1,  0.3,  0.6],\n",
    "          [ 0.8,  0.1,  0.1]]\n",
    "\n",
    "# Proportion of documents of each topic\n",
    "mixture_proportion = [0.3, 0.7]"
   ]
  },
  {
   "cell_type": "code",
   "execution_count": 36,
   "metadata": {
    "collapsed": false,
    "slideshow": {
     "slide_type": "slide"
    }
   },
   "outputs": [
    {
     "data": {
      "image/png": "[encoded data removed]",
      "text/plain": [
       "<matplotlib.figure.Figure at 0x10c026c88>"
      ]
     },
     "metadata": {},
     "output_type": "display_data"
    }
   ],
   "source": [
    "pd.Series(mixture_proportion, index=boring_topics).plot(kind='barh')\n",
    "_=plt.title(\"Mixture Proportions\")"
   ]
  },
  {
   "cell_type": "code",
   "execution_count": 37,
   "metadata": {
    "collapsed": false,
    "slideshow": {
     "slide_type": "fragment"
    }
   },
   "outputs": [
    {
     "data": {
      "image/png": "[encoded data removed]",
      "text/plain": [
       "<matplotlib.figure.Figure at 0x10c04cc50>"
      ]
     },
     "metadata": {},
     "output_type": "display_data"
    }
   ],
   "source": [
    "pd.DataFrame(topics, columns=boring_vocabulary, index=boring_topics).plot(kind='barh')\n",
    "_=plt.title(\"Word Distribution by Topic\")"
   ]
  },
  {
   "cell_type": "markdown",
   "metadata": {
    "slideshow": {
     "slide_type": "slide"
    }
   },
   "source": [
    "    ➡ Forward Sampling\n",
    "    \n",
    "Let's generate some documents!"
   ]
  },
  {
   "cell_type": "code",
   "execution_count": 78,
   "metadata": {
    "collapsed": false,
    "slideshow": {
     "slide_type": "-"
    }
   },
   "outputs": [
    {
     "name": "stdout",
     "output_type": "stream",
     "text": [
      "Document 01 (topic ☁): 🐍🐍🐍🐍🐍🐍🐍\n",
      "Document 02 (topic ☁): 🐍🐍🐍🐍🐍🐍🐍🐍🐍🐼\n",
      "Document 03 (topic ☁): 🐍🐍🐍🐍🐍🐍🐍🐍🐼📊\n",
      "Document 04 (topic ☁): 🐍🐍🐍🐍🐍🐍🐍🐼📊\n",
      "Document 05 (topic ☁): 🐍🐍🐍🐍🐍🐍🐍🐍🐍🐍🐼📊📊📊\n",
      "Document 06 (topic ☁): 🐍🐍🐍🐍🐍🐍🐍\n",
      "Document 07 (topic ☁): 🐍🐍🐍🐍🐍🐍🐍🐍🐍🐍🐍🐍🐍🐼\n",
      "Document 08 (topic ☁): 🐍🐍🐍🐍🐍📊📊\n",
      "Document 09 (topic ☁): 🐍🐍🐍🐍🐍🐍🐍🐍🐍🐍🐍🐍🐍🐼\n",
      "Document 10 (topic ☁): 🐍🐍🐍🐍🐍🐍🐍🐍🐼\n"
     ]
    }
   ],
   "source": [
    "for doc_index in range(1, 11):\n",
    "    topic = np.random.choice(topic_labels, p=mixture_proportion)\n",
    "    doc_len = stats.poisson(mu=10).rvs(size=1)\n",
    "    doc = sorted([np.random.choice(vocabulary, p=topics[topic_labels.index(topic)]) \n",
    "                  for _ in range(doc_len)])\n",
    "    print(\"Document {:02d} (topic {}): {}\".format(doc_index, topic, ''.join(doc)))"
   ]
  },
  {
   "cell_type": "markdown",
   "metadata": {
    "slideshow": {
     "slide_type": "slide"
    }
   },
   "source": [
    "    \"\"\"\n",
    "    ⬅ Reversing the Process\n",
    "    \"\"\"\n",
    "\n",
    "Given a collection of documents...\n",
    "\n",
    "...find the topic for each document\n",
    "\n",
    "...find the distribution over topics\n",
    "\n",
    "...find the distribution over terms for each topic"
   ]
  },
  {
   "cell_type": "markdown",
   "metadata": {
    "slideshow": {
     "slide_type": "slide"
    }
   },
   "source": [
    "    \"\"\"\n",
    "    ⬅ Limitations of this Model\n",
    "    \"\"\"\n",
    "    \n",
    "* Word order irrelevant. (Bag-of-words assumption!)\n",
    "    * Ignores all linguistic structure!\n",
    "* Single topic per document.\n",
    "* Assumes we know # of topics!"
   ]
  },
  {
   "cell_type": "markdown",
   "metadata": {},
   "source": [
    "```\n",
    "➡ What if we sample the topic for each word?\n",
    "```"
   ]
  },
  {
   "cell_type": "code",
   "execution_count": 69,
   "metadata": {
    "collapsed": false,
    "slideshow": {
     "slide_type": "slide"
    }
   },
   "outputs": [],
   "source": [
    "docs = defaultdict(lambda: defaultdict(str))\n",
    "for doc_index in range(10):\n",
    "    doc_len = stats.poisson(mu=10).rvs(size=1)\n",
    "    mixture_proportion = stats.dirichlet([0.5, 0.5]).rvs()[0]\n",
    "    \n",
    "    for word in range(doc_len):\n",
    "        topic = np.random.choice(topic_labels, p=mixture_proportion)\n",
    "        word = np.random.choice(vocabulary, p=topics[topic_labels.index(topic)])\n",
    "        docs[doc_index+1][topic] += word\n",
    "        docs[doc_index+1][topic] = ''.join(sorted(docs[doc_index+1][topic]))"
   ]
  },
  {
   "cell_type": "code",
   "execution_count": 77,
   "metadata": {
    "collapsed": false,
    "slideshow": {
     "slide_type": "slide"
    }
   },
   "outputs": [
    {
     "name": "stdout",
     "output_type": "stream",
     "text": [
      "Doc 01\n",
      "  Words from topic ☁: 🐍🐍🐍🐍🐍🐍🐍🐍🐍🐼🐼🐼\n",
      "  Words from topic ☀: 🐼\n",
      "Doc 02\n",
      "  Words from topic ☁: 🐍🐍🐍🐍🐍🐍🐍🐍🐼📊📊\n",
      "  Words from topic ☀: 🐼\n",
      "Doc 03\n",
      "  Words from topic ☀: 🐼🐼📊\n",
      "Doc 04\n",
      "  Words from topic ☁: 🐍🐍🐍🐼\n",
      "  Words from topic ☀: 🐼📊📊📊\n",
      "Doc 05\n",
      "  Words from topic ☁: 🐍🐍🐍🐍🐍🐍📊\n",
      "Doc 06\n",
      "  Words from topic ☀: 🐼🐼🐼🐼📊📊📊📊📊📊📊📊\n",
      "Doc 07\n",
      "  Words from topic ☁: 🐍🐍🐍🐍🐍🐼🐼\n",
      "  Words from topic ☀: 🐼🐼🐼📊📊\n",
      "Doc 08\n",
      "  Words from topic ☁: 🐍🐍\n",
      "  Words from topic ☀: 🐍🐼📊📊📊📊📊📊📊\n",
      "Doc 09\n",
      "  Words from topic ☁: 🐼📊\n",
      "  Words from topic ☀: 📊📊📊📊📊📊\n",
      "Doc 10\n",
      "  Words from topic ☁: 🐍🐍🐍🐍🐍🐍🐍🐍🐍🐍🐍\n"
     ]
    }
   ],
   "source": [
    "for doc_id, doc in docs.items():\n",
    "    print(\"Doc {:02d}\".format(doc_id))\n",
    "    for topic, words in doc.items():\n",
    "        print(\"  Words from topic {}: {}\".format(topic, words))"
   ]
  }
 ],
 "metadata": {
  "celltoolbar": "Slideshow",
  "kernelspec": {
   "display_name": "Python 3",
   "language": "python",
   "name": "python3"
  },
  "language_info": {
   "codemirror_mode": {
    "name": "ipython",
    "version": 3
   },
   "file_extension": ".py",
   "mimetype": "text/x-python",
   "name": "python",
   "nbconvert_exporter": "python",
   "pygments_lexer": "ipython3",
   "version": "3.4.3"
  }
 },
 "nbformat": 4,
 "nbformat_minor": 0
}
